{
 "cells": [
  {
   "cell_type": "markdown",
   "id": "9a929762",
   "metadata": {},
   "source": [
    "# Assignment #1\n",
    "\n",
    "Author:\n",
    "\n",
    "Collaborators:\n",
    "\n",
    "Integrity Statement: Did you use an LLM to write any of the code in your assignment? (Y/N): "
   ]
  },
  {
   "cell_type": "markdown",
   "id": "fde48eef",
   "metadata": {},
   "source": [
    "# Instructions"
   ]
  },
  {
   "cell_type": "markdown",
   "id": "ce287a26",
   "metadata": {},
   "source": [
    "You are permitted to work with a partner in the class to complete your assignment, but no more than one partner. However, every student must submit their own copy of the assignment, and must list your collaborators."
   ]
  },
  {
   "cell_type": "markdown",
   "id": "56a88d54",
   "metadata": {},
   "source": [
    "You should refer to your textbook and posted course materials as resources. You are also allowed to use the documentation for python, pandas, matplotlib, and seaborn. You may not use other online resources or LLMs for this assignment."
   ]
  },
  {
   "cell_type": "markdown",
   "id": "98e0af3a",
   "metadata": {},
   "source": [
    "You will be graded based on (1) correctness, (2) completeness, (3) documentation, and (4) overall readability of your notebook. The assignment will be worth a total of 100 points in the Homework category (15% of your grade)."
   ]
  },
  {
   "cell_type": "markdown",
   "id": "850e2c3f",
   "metadata": {},
   "source": [
    "**Submission and Deadline: This assignment must be submitted on Canvas before class begins on Wednesday, September 17.**"
   ]
  },
  {
   "cell_type": "markdown",
   "id": "9253ef9f",
   "metadata": {},
   "source": [
    "You must complete all of the steps below:\n",
    "\n",
    "1. Organize your project in a project folder (or repo) with three subfolders: src, data, and presentations. Place the provided dataset in the data folder, and the two provided notebooks in the src folder.\n",
    "2. Use a python virtual environment, install the libraries you use, and create a requirements.txt file (using `pip freeze`)\n",
    "3. Open and read through the provided data cleaning notebook to understand the cleaning process and all of its operations. (Fair game).\n",
    "4. Run the separate notebook provided for cleaning the CDC data. It should create a new file. You do not need to edit that notebook at all, and only need to run it once. All coding will take place in this notebook.\n",
    "\n",
    "The rest of the assignment should be completed in this notebook:\n",
    "\n",
    "1. Read in the clean data in from the provided csv file and write code to examine it and understand it\n",
    "2. Write code to determine which cancer site had the highest incidence of new cases for females in each individual year included in the dataset, and present your results\n",
    "3. Create a line plot for All Invasive Cancer Sites with x-axis = year, y-axis = incidence of cancer cases, and a separate line for Males and Females (two lines total)\n",
    "4. Create a line plot for females with x-axis = year, y-axis = incidence of cancer, and a separate line for each individual cancer site (many lines)\n",
    "5. Create a scatter plot with a single marker for each (site, sex) pair in 2000, with x-axis = population, y-axis = incidence of cancer cases. Use a different color marker for Males and Females\n",
    "6. Create a bar plot with a bar for each individual cancer site (excluding the all-inclusive case), and bar length based on the incidence of new cases for males in the year 2000\n",
    "7. For each cancer site and each year, determine whether males or females had the higher incidence (hint: groupby)\n",
    "8. Create a pivot table with a row for each cancer site, column for each year, and a value equal to the total incidence of males and females combined\n",
    "\n",
    "9. Add your full name and the full names of your collaborator (if any) at the top of this document. Answer the integrity statement. \n",
    "10. Submit this notebook on Canvas together with the requirements.txt file\n",
    "\n",
    "**NOTE:** For each plot, add a descriptive title and label the axes appropriately, and remark on any observations that you make."
   ]
  },
  {
   "cell_type": "markdown",
   "id": "85956d8c",
   "metadata": {},
   "source": [
    "**HINT #1:** Most problems can be solved by some combination of filtering and/or groupby before aggregating (e.g., taking the max) and plotting.\n",
    "\n",
    "**HINT #2:** You can solve these problems in any order, so do the ones you find easiest first and the rest will start to feel easier.\n",
    "\n",
    "**Useful Documentation**\n",
    "- Pandas general documentation: https://pandas.pydata.org/docs/user_guide/index.html\n",
    "- Pandas dataframe reshaping: https://pandas.pydata.org/docs/user_guide/reshaping.html\n",
    "- Pandas Copy-on-Write: https://pandas.pydata.org/docs/user_guide/copy_on_write.html\n",
    "- Pandas missing data: https://pandas.pydata.org/docs/user_guide/missing_data.html\n",
    "- Pandas split-apply-combine (groupby, agg): https://pandas.pydata.org/docs/user_guide/groupby.html \n",
    "\n",
    "- Matplotlib documentation: https://matplotlib.org/stable/plot_types/index.html\n",
    "- Seaborn documentation: https://seaborn.pydata.org/\n"
   ]
  },
  {
   "cell_type": "markdown",
   "id": "c18c27e5",
   "metadata": {},
   "source": [
    "# Imports and CoW"
   ]
  },
  {
   "cell_type": "code",
   "execution_count": 2,
   "id": "9f3f5051",
   "metadata": {},
   "outputs": [],
   "source": [
    "#Uncomment the libraries you need. Be sure to install whichever ones you need into your Python virtual environment. You may also need to also install Jupyter or iPython to run your notebook, depending on your setup.\n",
    "\n",
    "# import pandas as pd\n",
    "# import matplotlib.pyplot as plt\n",
    "# import seaborn as sns\n",
    "# import numpy as np"
   ]
  },
  {
   "cell_type": "code",
   "execution_count": 3,
   "id": "5a0e9559",
   "metadata": {},
   "outputs": [],
   "source": [
    "#pd.set_option('''Your code here to set Copy-on-Write''') # will be the default in pandas 3.0, best to enforce it"
   ]
  },
  {
   "cell_type": "markdown",
   "id": "21bb0441",
   "metadata": {},
   "source": [
    "# 1. Read in Data"
   ]
  },
  {
   "cell_type": "code",
   "execution_count": null,
   "id": "6c5fb066",
   "metadata": {},
   "outputs": [],
   "source": []
  },
  {
   "cell_type": "markdown",
   "id": "9a423fd2",
   "metadata": {},
   "source": [
    "# 2. Incidence for Females Each Year\n",
    "\n",
    "Write code to determine which cancer site had the highest incidence of new cases for females in each year 1999-2022 (hint: filter then groupby then agg)"
   ]
  },
  {
   "cell_type": "code",
   "execution_count": null,
   "id": "5527fd7a",
   "metadata": {},
   "outputs": [],
   "source": []
  },
  {
   "cell_type": "markdown",
   "id": "85778d07",
   "metadata": {},
   "source": [
    "# 3. Line plots for male and female, all sites\n",
    "\n",
    "Create a line plot for All Invasive Cancer Sites with x-axis = year, y-axis = incidence of cancer cases, and a separate line for Males and Females (two lines total)"
   ]
  },
  {
   "cell_type": "code",
   "execution_count": null,
   "id": "173101ec",
   "metadata": {},
   "outputs": [],
   "source": []
  },
  {
   "cell_type": "markdown",
   "id": "b2fe0d67",
   "metadata": {},
   "source": [
    "# 4. Line plots for cancer sites\n",
    "\n",
    " Create a line plot for females with x-axis = year, y-axis = incidence of cancer, and a separate line for each cancer site (many lines)"
   ]
  },
  {
   "cell_type": "code",
   "execution_count": null,
   "id": "6920e4fc",
   "metadata": {},
   "outputs": [],
   "source": []
  },
  {
   "cell_type": "markdown",
   "id": "ec4aba1b",
   "metadata": {},
   "source": [
    "# 5. Scatter plot for 2020\n",
    "\n",
    "Create a scatter plot with a single marker for each (site, sex) pair in 2000, with x-axis = population, y-axis = incidence of cancer cases. Use a different color marker for Males and Females"
   ]
  },
  {
   "cell_type": "code",
   "execution_count": null,
   "id": "63748a71",
   "metadata": {},
   "outputs": [],
   "source": []
  },
  {
   "cell_type": "markdown",
   "id": "3fec5b67",
   "metadata": {},
   "source": [
    "# 6. Bar plot for each site\n",
    "\n",
    "Create a bar plot with a bar for each individual cancer site (excluding the all-inclusive case), and bar length based on the incidence of new cases for males in the year 2000"
   ]
  },
  {
   "cell_type": "code",
   "execution_count": null,
   "id": "83068f5d",
   "metadata": {},
   "outputs": [],
   "source": []
  },
  {
   "cell_type": "markdown",
   "id": "09d95406",
   "metadata": {},
   "source": [
    "# 7. Higher Incidence Between Sexes\n",
    "\n",
    "For each cancer site and each year, determine whether males or females had the higher incidence"
   ]
  },
  {
   "cell_type": "code",
   "execution_count": null,
   "id": "46b9d49b",
   "metadata": {},
   "outputs": [],
   "source": []
  },
  {
   "cell_type": "markdown",
   "id": "a1218917",
   "metadata": {},
   "source": [
    "# 8. Pivot table for cancer / year\n",
    "\n",
    "Create a pivot table with a row for each cancer site, column for each year, and a value equal to the total incidence of males and females combined"
   ]
  },
  {
   "cell_type": "code",
   "execution_count": null,
   "id": "42864c6e",
   "metadata": {},
   "outputs": [],
   "source": []
  }
 ],
 "metadata": {
  "kernelspec": {
   "display_name": "venv",
   "language": "python",
   "name": "python3"
  },
  "language_info": {
   "codemirror_mode": {
    "name": "ipython",
    "version": 3
   },
   "file_extension": ".py",
   "mimetype": "text/x-python",
   "name": "python",
   "nbconvert_exporter": "python",
   "pygments_lexer": "ipython3",
   "version": "3.12.4"
  }
 },
 "nbformat": 4,
 "nbformat_minor": 5
}
