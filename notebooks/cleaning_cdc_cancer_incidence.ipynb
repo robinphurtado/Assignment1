{
 "cells": [
  {
   "cell_type": "markdown",
   "id": "6c37b218",
   "metadata": {},
   "source": [
    "# Assignment 1 -- Cleaning CDC Cancer Data\n",
    "\n",
    "**About** Assignment \\#1 of CSS 577 Fall 2025"
   ]
  },
  {
   "cell_type": "markdown",
   "id": "58623fbd",
   "metadata": {},
   "source": [
    "**Purpose** The purpose of this notebook is to clean cancer incidence data from the CDC so it will be easy to use for Assignment \\#1. We will read in data from our data file, clean it up, and then save a new clean version of our data."
   ]
  },
  {
   "cell_type": "markdown",
   "id": "c3c884fb",
   "metadata": {},
   "source": [
    "**Dataset**\n",
    "We will be using the cancer incidence dataset, which includes the incidence of different cancers in the United States in the years 2019-2022. Note that incidence is different from prevalence. Incidence is the number of new cases, which prevalence is the total number of cases.\n",
    "\n",
    "Source: https://wonder.cdc.gov/cancer-v2022.html\n",
    "\n",
    "Last Accessed: September 2025"
   ]
  },
  {
   "cell_type": "markdown",
   "id": "eb808ed9",
   "metadata": {},
   "source": [
    "# 0. Import Statements and Copy-on-Write"
   ]
  },
  {
   "cell_type": "code",
   "execution_count": 1,
   "id": "481b396c",
   "metadata": {},
   "outputs": [],
   "source": [
    "import pandas as pd\n",
    "from pathlib import Path"
   ]
  },
  {
   "cell_type": "code",
   "execution_count": 23,
   "id": "6df6946e",
   "metadata": {},
   "outputs": [],
   "source": [
    "pd.set_option(\"mode.copy_on_write\", True) # will be the default in pandas 3.0, best to enforce it"
   ]
  },
  {
   "cell_type": "markdown",
   "id": "de3acb5a",
   "metadata": {},
   "source": [
    "# 1. Read in the Data"
   ]
  },
  {
   "cell_type": "code",
   "execution_count": 3,
   "id": "c90f3700",
   "metadata": {},
   "outputs": [],
   "source": [
    "cwd = Path().cwd() #should be our src folder, containing this notebook\n",
    "project_folder = cwd.parent #should be our project folder, containing the src folder\n",
    "dataset_path = Path('data/cancer_incidence_2019-2022.csv') #using a data folder makes life easier\n",
    "\n",
    "file = project_folder / dataset_path #join the project folder with the dataset path\n",
    "\n",
    "if not file.exists():\n",
    "    raise FileNotFoundError(f\"Dataset file not found: {file}\")\n",
    "\n",
    "cancer = pd.read_csv(file)"
   ]
  },
  {
   "cell_type": "markdown",
   "id": "273b5ba8",
   "metadata": {},
   "source": [
    "## 1.1 Quick Initial Inspection of the Data"
   ]
  },
  {
   "cell_type": "code",
   "execution_count": 4,
   "id": "187e5a4f",
   "metadata": {},
   "outputs": [
    {
     "data": {
      "text/plain": [
       "Index(['Notes', 'Cancer Sites', 'Cancer Sites Code', 'Year', 'Year Code',\n",
       "       'Sex', 'Sex Code', 'Count', 'Population', 'Age-Adjusted Rate',\n",
       "       'Age-Adjusted Rate Lower 95% Confidence Interval',\n",
       "       'Age-Adjusted Rate Upper 95% Confidence Interval', 'Crude Rate',\n",
       "       'Crude Rate Lower 95% Confidence Interval',\n",
       "       'Crude Rate Upper 95% Confidence Interval'],\n",
       "      dtype='object')"
      ]
     },
     "execution_count": 4,
     "metadata": {},
     "output_type": "execute_result"
    }
   ],
   "source": [
    "cancer.columns #Get the column names"
   ]
  },
  {
   "cell_type": "code",
   "execution_count": 5,
   "id": "232501f7",
   "metadata": {},
   "outputs": [
    {
     "data": {
      "text/plain": [
       "(5092, 15)"
      ]
     },
     "execution_count": 5,
     "metadata": {},
     "output_type": "execute_result"
    }
   ],
   "source": [
    "cancer.shape #We should have 5092 rows and 15 columns originally"
   ]
  },
  {
   "cell_type": "markdown",
   "id": "bbca009b",
   "metadata": {},
   "source": [
    "Let's take a look at some of the data using head() to get the first few rows"
   ]
  },
  {
   "cell_type": "code",
   "execution_count": 6,
   "id": "4c46d55d",
   "metadata": {},
   "outputs": [
    {
     "data": {
      "text/html": [
       "<div>\n",
       "<style scoped>\n",
       "    .dataframe tbody tr th:only-of-type {\n",
       "        vertical-align: middle;\n",
       "    }\n",
       "\n",
       "    .dataframe tbody tr th {\n",
       "        vertical-align: top;\n",
       "    }\n",
       "\n",
       "    .dataframe thead th {\n",
       "        text-align: right;\n",
       "    }\n",
       "</style>\n",
       "<table border=\"1\" class=\"dataframe\">\n",
       "  <thead>\n",
       "    <tr style=\"text-align: right;\">\n",
       "      <th></th>\n",
       "      <th>Notes</th>\n",
       "      <th>Cancer Sites</th>\n",
       "      <th>Cancer Sites Code</th>\n",
       "      <th>Year</th>\n",
       "      <th>Year Code</th>\n",
       "      <th>Sex</th>\n",
       "      <th>Sex Code</th>\n",
       "      <th>Count</th>\n",
       "      <th>Population</th>\n",
       "      <th>Age-Adjusted Rate</th>\n",
       "      <th>Age-Adjusted Rate Lower 95% Confidence Interval</th>\n",
       "      <th>Age-Adjusted Rate Upper 95% Confidence Interval</th>\n",
       "      <th>Crude Rate</th>\n",
       "      <th>Crude Rate Lower 95% Confidence Interval</th>\n",
       "      <th>Crude Rate Upper 95% Confidence Interval</th>\n",
       "    </tr>\n",
       "  </thead>\n",
       "  <tbody>\n",
       "    <tr>\n",
       "      <th>0</th>\n",
       "      <td>NaN</td>\n",
       "      <td>All Invasive Cancer Sites Combined</td>\n",
       "      <td>0</td>\n",
       "      <td>1999.0</td>\n",
       "      <td>1999.0</td>\n",
       "      <td>Female</td>\n",
       "      <td>F</td>\n",
       "      <td>631741</td>\n",
       "      <td>140394214</td>\n",
       "      <td>420.5</td>\n",
       "      <td>419.4</td>\n",
       "      <td>421.5</td>\n",
       "      <td>450.0</td>\n",
       "      <td>448.9</td>\n",
       "      <td>451.1</td>\n",
       "    </tr>\n",
       "    <tr>\n",
       "      <th>1</th>\n",
       "      <td>NaN</td>\n",
       "      <td>All Invasive Cancer Sites Combined</td>\n",
       "      <td>0</td>\n",
       "      <td>1999.0</td>\n",
       "      <td>1999.0</td>\n",
       "      <td>Male</td>\n",
       "      <td>M</td>\n",
       "      <td>672530</td>\n",
       "      <td>135067134</td>\n",
       "      <td>572.4</td>\n",
       "      <td>571.0</td>\n",
       "      <td>573.8</td>\n",
       "      <td>497.9</td>\n",
       "      <td>496.7</td>\n",
       "      <td>499.1</td>\n",
       "    </tr>\n",
       "    <tr>\n",
       "      <th>2</th>\n",
       "      <td>NaN</td>\n",
       "      <td>All Invasive Cancer Sites Combined</td>\n",
       "      <td>0</td>\n",
       "      <td>2000.0</td>\n",
       "      <td>2000.0</td>\n",
       "      <td>Female</td>\n",
       "      <td>F</td>\n",
       "      <td>641968</td>\n",
       "      <td>141865770</td>\n",
       "      <td>421.3</td>\n",
       "      <td>420.3</td>\n",
       "      <td>422.4</td>\n",
       "      <td>452.5</td>\n",
       "      <td>451.4</td>\n",
       "      <td>453.6</td>\n",
       "    </tr>\n",
       "    <tr>\n",
       "      <th>3</th>\n",
       "      <td>NaN</td>\n",
       "      <td>All Invasive Cancer Sites Combined</td>\n",
       "      <td>0</td>\n",
       "      <td>2000.0</td>\n",
       "      <td>2000.0</td>\n",
       "      <td>Male</td>\n",
       "      <td>M</td>\n",
       "      <td>690598</td>\n",
       "      <td>136692444</td>\n",
       "      <td>577.0</td>\n",
       "      <td>575.6</td>\n",
       "      <td>578.3</td>\n",
       "      <td>505.2</td>\n",
       "      <td>504.0</td>\n",
       "      <td>506.4</td>\n",
       "    </tr>\n",
       "    <tr>\n",
       "      <th>4</th>\n",
       "      <td>NaN</td>\n",
       "      <td>All Invasive Cancer Sites Combined</td>\n",
       "      <td>0</td>\n",
       "      <td>2001.0</td>\n",
       "      <td>2001.0</td>\n",
       "      <td>Female</td>\n",
       "      <td>F</td>\n",
       "      <td>662313</td>\n",
       "      <td>143603977</td>\n",
       "      <td>427.6</td>\n",
       "      <td>426.6</td>\n",
       "      <td>428.7</td>\n",
       "      <td>461.2</td>\n",
       "      <td>460.1</td>\n",
       "      <td>462.3</td>\n",
       "    </tr>\n",
       "  </tbody>\n",
       "</table>\n",
       "</div>"
      ],
      "text/plain": [
       "  Notes                        Cancer Sites Cancer Sites Code    Year  \\\n",
       "0   NaN  All Invasive Cancer Sites Combined                 0  1999.0   \n",
       "1   NaN  All Invasive Cancer Sites Combined                 0  1999.0   \n",
       "2   NaN  All Invasive Cancer Sites Combined                 0  2000.0   \n",
       "3   NaN  All Invasive Cancer Sites Combined                 0  2000.0   \n",
       "4   NaN  All Invasive Cancer Sites Combined                 0  2001.0   \n",
       "\n",
       "   Year Code     Sex Sex Code   Count Population Age-Adjusted Rate  \\\n",
       "0     1999.0  Female        F  631741  140394214             420.5   \n",
       "1     1999.0    Male        M  672530  135067134             572.4   \n",
       "2     2000.0  Female        F  641968  141865770             421.3   \n",
       "3     2000.0    Male        M  690598  136692444             577.0   \n",
       "4     2001.0  Female        F  662313  143603977             427.6   \n",
       "\n",
       "  Age-Adjusted Rate Lower 95% Confidence Interval  \\\n",
       "0                                           419.4   \n",
       "1                                           571.0   \n",
       "2                                           420.3   \n",
       "3                                           575.6   \n",
       "4                                           426.6   \n",
       "\n",
       "  Age-Adjusted Rate Upper 95% Confidence Interval Crude Rate  \\\n",
       "0                                           421.5      450.0   \n",
       "1                                           573.8      497.9   \n",
       "2                                           422.4      452.5   \n",
       "3                                           578.3      505.2   \n",
       "4                                           428.7      461.2   \n",
       "\n",
       "  Crude Rate Lower 95% Confidence Interval  \\\n",
       "0                                    448.9   \n",
       "1                                    496.7   \n",
       "2                                    451.4   \n",
       "3                                    504.0   \n",
       "4                                    460.1   \n",
       "\n",
       "  Crude Rate Upper 95% Confidence Interval  \n",
       "0                                    451.1  \n",
       "1                                    499.1  \n",
       "2                                    453.6  \n",
       "3                                    506.4  \n",
       "4                                    462.3  "
      ]
     },
     "execution_count": 6,
     "metadata": {},
     "output_type": "execute_result"
    }
   ],
   "source": [
    "cancer.head()"
   ]
  },
  {
   "cell_type": "markdown",
   "id": "7e53e101",
   "metadata": {},
   "source": [
    "We can infer what some of these columns mean, but there are also some things we don't know:\n",
    "\n",
    "- All the notes we see are NaN. What do the notes say?\n",
    "- Cancer Site means where in the body the cancer was located.\n",
    "- Each Cancer Site appears to be assigned a numeric Cancer Site Code for convenience\n",
    "- Year is the year in which the observation is made (i.e., diagnosed)\n",
    "- Year Code looks the same as the Year...? Will need to see what's happening hear\n",
    "- Sex is the patient's biological set\n",
    "- Sex Code looks like a one-letter abbreviate for the sex. Do we need both?\n",
    "- Count is the number of new diagnoses of cancer at that site for that sex in that year\n",
    "- Population is the number of people in the United States of that sex in that year (we should check if this is the same for all Cancer Sites)\n",
    "- We don't know exactly what age-adjusted rate means. Seems like the incidence rate, but changed somehow to reflect age. (We haven't checked the documentation yet). Our dataset doesn't have information about ages.\n",
    "- The age-adjusted rate seems to contrast with the crude rate, which we can guess is an un-adjusted rate of the same measurement\n",
    "- We have four columns giving us confidence intervals around the rate measurements."
   ]
  },
  {
   "cell_type": "markdown",
   "id": "e0886fb9",
   "metadata": {},
   "source": [
    "**Granularity**: What does each row represent? Each row or observation is characterized by (Cancer Site, Year, Sex). The remaining columns are codes and measurements."
   ]
  },
  {
   "cell_type": "markdown",
   "id": "72475a73",
   "metadata": {},
   "source": [
    "## 1.2 Check if Missing Data\n",
    "Are some columns missing some values for some observations? We know from .shape() that there are 5092 rows. "
   ]
  },
  {
   "cell_type": "code",
   "execution_count": 7,
   "id": "26781634",
   "metadata": {},
   "outputs": [
    {
     "data": {
      "text/plain": [
       "Notes                                              5039\n",
       "Cancer Sites                                         53\n",
       "Cancer Sites Code                                    53\n",
       "Year                                                 53\n",
       "Year Code                                            53\n",
       "Sex                                                  53\n",
       "Sex Code                                             53\n",
       "Count                                                53\n",
       "Population                                           53\n",
       "Age-Adjusted Rate                                    53\n",
       "Age-Adjusted Rate Lower 95% Confidence Interval      53\n",
       "Age-Adjusted Rate Upper 95% Confidence Interval      53\n",
       "Crude Rate                                           53\n",
       "Crude Rate Lower 95% Confidence Interval             53\n",
       "Crude Rate Upper 95% Confidence Interval             53\n",
       "dtype: int64"
      ]
     },
     "execution_count": 7,
     "metadata": {},
     "output_type": "execute_result"
    }
   ],
   "source": [
    "cancer.isna().sum() #gives the number of missing values in each column."
   ]
  },
  {
   "cell_type": "markdown",
   "id": "60ba699c",
   "metadata": {},
   "source": [
    "So every column has exactly 53 NaN values, except for notes which has 5039 NaN values. Notice that 53+5039 = 5092! Looks like whoever made this dataset likely added bunch of notes to the bottom or top of the document (53 rows of notes), and when we read them in, they're forming this separate column of Notes. But the rows in our dataset do not have their own notes."
   ]
  },
  {
   "cell_type": "markdown",
   "id": "64ee7c54",
   "metadata": {},
   "source": [
    "We must be careful here -- it is too easy to get fooled into thinking that none of the 5039 rows with observations are missing data. We are not done addressing missing data."
   ]
  },
  {
   "cell_type": "markdown",
   "id": "1d535e3a",
   "metadata": {},
   "source": [
    "## 1.3 Check that the Data Types make sense"
   ]
  },
  {
   "cell_type": "markdown",
   "id": "8ace2c3e",
   "metadata": {},
   "source": [
    "Are the column data types what we expect? For some columns we should expect numeric types (int, float), while for others we do not."
   ]
  },
  {
   "cell_type": "code",
   "execution_count": 8,
   "id": "e874518e",
   "metadata": {},
   "outputs": [
    {
     "data": {
      "text/plain": [
       "Notes                                               object\n",
       "Cancer Sites                                        object\n",
       "Cancer Sites Code                                   object\n",
       "Year                                               float64\n",
       "Year Code                                          float64\n",
       "Sex                                                 object\n",
       "Sex Code                                            object\n",
       "Count                                               object\n",
       "Population                                          object\n",
       "Age-Adjusted Rate                                   object\n",
       "Age-Adjusted Rate Lower 95% Confidence Interval     object\n",
       "Age-Adjusted Rate Upper 95% Confidence Interval     object\n",
       "Crude Rate                                          object\n",
       "Crude Rate Lower 95% Confidence Interval            object\n",
       "Crude Rate Upper 95% Confidence Interval            object\n",
       "dtype: object"
      ]
     },
     "execution_count": 8,
     "metadata": {},
     "output_type": "execute_result"
    }
   ],
   "source": [
    "cancer.dtypes"
   ]
  },
  {
   "cell_type": "markdown",
   "id": "3f72cd6f",
   "metadata": {},
   "source": [
    "Here we see that only the year and Year Code are numbers, and they seem to be floats (not ints). Why aren't the other counter values and measurements like the count, population, rates, and confidence intervals numeric? There are a few possible reasons. Whoever created the dataset might be using some non-numeric characters or strings to represent missing data, or to annotate data points within the cells instead of creating separate columns for annotations. This could also be a sign that there is missing data, but instead of a NaN the missing data is being represented by some string. Let's take a look at the rows where some of the values are not numeric when we expect them to be."
   ]
  },
  {
   "cell_type": "markdown",
   "id": "6d896805",
   "metadata": {},
   "source": [
    "Unfortunately, pandas doesn't have a nice method like .is_numeric() to just get the non-numeric values in a column. Instead we have to try to convert the column ot a numeric column, and then force all the rows where the conversion fails to be NaN values, then check which rows are NaN values."
   ]
  },
  {
   "cell_type": "code",
   "execution_count": 9,
   "id": "b528aca9",
   "metadata": {},
   "outputs": [
    {
     "data": {
      "text/html": [
       "<div>\n",
       "<style scoped>\n",
       "    .dataframe tbody tr th:only-of-type {\n",
       "        vertical-align: middle;\n",
       "    }\n",
       "\n",
       "    .dataframe tbody tr th {\n",
       "        vertical-align: top;\n",
       "    }\n",
       "\n",
       "    .dataframe thead th {\n",
       "        text-align: right;\n",
       "    }\n",
       "</style>\n",
       "<table border=\"1\" class=\"dataframe\">\n",
       "  <thead>\n",
       "    <tr style=\"text-align: right;\">\n",
       "      <th></th>\n",
       "      <th>Notes</th>\n",
       "      <th>Cancer Sites</th>\n",
       "      <th>Cancer Sites Code</th>\n",
       "      <th>Year</th>\n",
       "      <th>Year Code</th>\n",
       "      <th>Sex</th>\n",
       "      <th>Sex Code</th>\n",
       "      <th>Count</th>\n",
       "      <th>Population</th>\n",
       "      <th>Age-Adjusted Rate</th>\n",
       "      <th>Age-Adjusted Rate Lower 95% Confidence Interval</th>\n",
       "      <th>Age-Adjusted Rate Upper 95% Confidence Interval</th>\n",
       "      <th>Crude Rate</th>\n",
       "      <th>Crude Rate Lower 95% Confidence Interval</th>\n",
       "      <th>Crude Rate Upper 95% Confidence Interval</th>\n",
       "    </tr>\n",
       "  </thead>\n",
       "  <tbody>\n",
       "    <tr>\n",
       "      <th>2497</th>\n",
       "      <td>NaN</td>\n",
       "      <td>Female Breast</td>\n",
       "      <td>26000-Female</td>\n",
       "      <td>1999.0</td>\n",
       "      <td>1999.0</td>\n",
       "      <td>Male</td>\n",
       "      <td>M</td>\n",
       "      <td>Not Applicable</td>\n",
       "      <td>Not Applicable</td>\n",
       "      <td>Not Applicable</td>\n",
       "      <td>Not Applicable</td>\n",
       "      <td>Not Applicable</td>\n",
       "      <td>Not Applicable</td>\n",
       "      <td>Not Applicable</td>\n",
       "      <td>Not Applicable</td>\n",
       "    </tr>\n",
       "    <tr>\n",
       "      <th>2499</th>\n",
       "      <td>NaN</td>\n",
       "      <td>Female Breast</td>\n",
       "      <td>26000-Female</td>\n",
       "      <td>2000.0</td>\n",
       "      <td>2000.0</td>\n",
       "      <td>Male</td>\n",
       "      <td>M</td>\n",
       "      <td>Not Applicable</td>\n",
       "      <td>Not Applicable</td>\n",
       "      <td>Not Applicable</td>\n",
       "      <td>Not Applicable</td>\n",
       "      <td>Not Applicable</td>\n",
       "      <td>Not Applicable</td>\n",
       "      <td>Not Applicable</td>\n",
       "      <td>Not Applicable</td>\n",
       "    </tr>\n",
       "    <tr>\n",
       "      <th>2501</th>\n",
       "      <td>NaN</td>\n",
       "      <td>Female Breast</td>\n",
       "      <td>26000-Female</td>\n",
       "      <td>2001.0</td>\n",
       "      <td>2001.0</td>\n",
       "      <td>Male</td>\n",
       "      <td>M</td>\n",
       "      <td>Not Applicable</td>\n",
       "      <td>Not Applicable</td>\n",
       "      <td>Not Applicable</td>\n",
       "      <td>Not Applicable</td>\n",
       "      <td>Not Applicable</td>\n",
       "      <td>Not Applicable</td>\n",
       "      <td>Not Applicable</td>\n",
       "      <td>Not Applicable</td>\n",
       "    </tr>\n",
       "    <tr>\n",
       "      <th>2503</th>\n",
       "      <td>NaN</td>\n",
       "      <td>Female Breast</td>\n",
       "      <td>26000-Female</td>\n",
       "      <td>2002.0</td>\n",
       "      <td>2002.0</td>\n",
       "      <td>Male</td>\n",
       "      <td>M</td>\n",
       "      <td>Not Applicable</td>\n",
       "      <td>Not Applicable</td>\n",
       "      <td>Not Applicable</td>\n",
       "      <td>Not Applicable</td>\n",
       "      <td>Not Applicable</td>\n",
       "      <td>Not Applicable</td>\n",
       "      <td>Not Applicable</td>\n",
       "      <td>Not Applicable</td>\n",
       "    </tr>\n",
       "    <tr>\n",
       "      <th>2505</th>\n",
       "      <td>NaN</td>\n",
       "      <td>Female Breast</td>\n",
       "      <td>26000-Female</td>\n",
       "      <td>2003.0</td>\n",
       "      <td>2003.0</td>\n",
       "      <td>Male</td>\n",
       "      <td>M</td>\n",
       "      <td>Not Applicable</td>\n",
       "      <td>Not Applicable</td>\n",
       "      <td>Not Applicable</td>\n",
       "      <td>Not Applicable</td>\n",
       "      <td>Not Applicable</td>\n",
       "      <td>Not Applicable</td>\n",
       "      <td>Not Applicable</td>\n",
       "      <td>Not Applicable</td>\n",
       "    </tr>\n",
       "    <tr>\n",
       "      <th>...</th>\n",
       "      <td>...</td>\n",
       "      <td>...</td>\n",
       "      <td>...</td>\n",
       "      <td>...</td>\n",
       "      <td>...</td>\n",
       "      <td>...</td>\n",
       "      <td>...</td>\n",
       "      <td>...</td>\n",
       "      <td>...</td>\n",
       "      <td>...</td>\n",
       "      <td>...</td>\n",
       "      <td>...</td>\n",
       "      <td>...</td>\n",
       "      <td>...</td>\n",
       "      <td>...</td>\n",
       "    </tr>\n",
       "    <tr>\n",
       "      <th>5087</th>\n",
       "      <td>standard groupings of primary cancer sites.</td>\n",
       "      <td>NaN</td>\n",
       "      <td>NaN</td>\n",
       "      <td>NaN</td>\n",
       "      <td>NaN</td>\n",
       "      <td>NaN</td>\n",
       "      <td>NaN</td>\n",
       "      <td>NaN</td>\n",
       "      <td>NaN</td>\n",
       "      <td>NaN</td>\n",
       "      <td>NaN</td>\n",
       "      <td>NaN</td>\n",
       "      <td>NaN</td>\n",
       "      <td>NaN</td>\n",
       "      <td>NaN</td>\n",
       "    </tr>\n",
       "    <tr>\n",
       "      <th>5088</th>\n",
       "      <td>6. For the 2005 year, the Census Bureau estima...</td>\n",
       "      <td>NaN</td>\n",
       "      <td>NaN</td>\n",
       "      <td>NaN</td>\n",
       "      <td>NaN</td>\n",
       "      <td>NaN</td>\n",
       "      <td>NaN</td>\n",
       "      <td>NaN</td>\n",
       "      <td>NaN</td>\n",
       "      <td>NaN</td>\n",
       "      <td>NaN</td>\n",
       "      <td>NaN</td>\n",
       "      <td>NaN</td>\n",
       "      <td>NaN</td>\n",
       "      <td>NaN</td>\n",
       "    </tr>\n",
       "    <tr>\n",
       "      <th>5089</th>\n",
       "      <td>Texas due to Hurricanes Katrina and Rita. CDC ...</td>\n",
       "      <td>NaN</td>\n",
       "      <td>NaN</td>\n",
       "      <td>NaN</td>\n",
       "      <td>NaN</td>\n",
       "      <td>NaN</td>\n",
       "      <td>NaN</td>\n",
       "      <td>NaN</td>\n",
       "      <td>NaN</td>\n",
       "      <td>NaN</td>\n",
       "      <td>NaN</td>\n",
       "      <td>NaN</td>\n",
       "      <td>NaN</td>\n",
       "      <td>NaN</td>\n",
       "      <td>NaN</td>\n",
       "    </tr>\n",
       "    <tr>\n",
       "      <th>5090</th>\n",
       "      <td>these states, nor are these counts included in...</td>\n",
       "      <td>NaN</td>\n",
       "      <td>NaN</td>\n",
       "      <td>NaN</td>\n",
       "      <td>NaN</td>\n",
       "      <td>NaN</td>\n",
       "      <td>NaN</td>\n",
       "      <td>NaN</td>\n",
       "      <td>NaN</td>\n",
       "      <td>NaN</td>\n",
       "      <td>NaN</td>\n",
       "      <td>NaN</td>\n",
       "      <td>NaN</td>\n",
       "      <td>NaN</td>\n",
       "      <td>NaN</td>\n",
       "    </tr>\n",
       "    <tr>\n",
       "      <th>5091</th>\n",
       "      <td>population. However, the USCS web site does in...</td>\n",
       "      <td>NaN</td>\n",
       "      <td>NaN</td>\n",
       "      <td>NaN</td>\n",
       "      <td>NaN</td>\n",
       "      <td>NaN</td>\n",
       "      <td>NaN</td>\n",
       "      <td>NaN</td>\n",
       "      <td>NaN</td>\n",
       "      <td>NaN</td>\n",
       "      <td>NaN</td>\n",
       "      <td>NaN</td>\n",
       "      <td>NaN</td>\n",
       "      <td>NaN</td>\n",
       "      <td>NaN</td>\n",
       "    </tr>\n",
       "  </tbody>\n",
       "</table>\n",
       "<p>461 rows × 15 columns</p>\n",
       "</div>"
      ],
      "text/plain": [
       "                                                  Notes   Cancer Sites  \\\n",
       "2497                                                NaN  Female Breast   \n",
       "2499                                                NaN  Female Breast   \n",
       "2501                                                NaN  Female Breast   \n",
       "2503                                                NaN  Female Breast   \n",
       "2505                                                NaN  Female Breast   \n",
       "...                                                 ...            ...   \n",
       "5087        standard groupings of primary cancer sites.            NaN   \n",
       "5088  6. For the 2005 year, the Census Bureau estima...            NaN   \n",
       "5089  Texas due to Hurricanes Katrina and Rita. CDC ...            NaN   \n",
       "5090  these states, nor are these counts included in...            NaN   \n",
       "5091  population. However, the USCS web site does in...            NaN   \n",
       "\n",
       "     Cancer Sites Code    Year  Year Code   Sex Sex Code           Count  \\\n",
       "2497      26000-Female  1999.0     1999.0  Male        M  Not Applicable   \n",
       "2499      26000-Female  2000.0     2000.0  Male        M  Not Applicable   \n",
       "2501      26000-Female  2001.0     2001.0  Male        M  Not Applicable   \n",
       "2503      26000-Female  2002.0     2002.0  Male        M  Not Applicable   \n",
       "2505      26000-Female  2003.0     2003.0  Male        M  Not Applicable   \n",
       "...                ...     ...        ...   ...      ...             ...   \n",
       "5087               NaN     NaN        NaN   NaN      NaN             NaN   \n",
       "5088               NaN     NaN        NaN   NaN      NaN             NaN   \n",
       "5089               NaN     NaN        NaN   NaN      NaN             NaN   \n",
       "5090               NaN     NaN        NaN   NaN      NaN             NaN   \n",
       "5091               NaN     NaN        NaN   NaN      NaN             NaN   \n",
       "\n",
       "          Population Age-Adjusted Rate  \\\n",
       "2497  Not Applicable    Not Applicable   \n",
       "2499  Not Applicable    Not Applicable   \n",
       "2501  Not Applicable    Not Applicable   \n",
       "2503  Not Applicable    Not Applicable   \n",
       "2505  Not Applicable    Not Applicable   \n",
       "...              ...               ...   \n",
       "5087             NaN               NaN   \n",
       "5088             NaN               NaN   \n",
       "5089             NaN               NaN   \n",
       "5090             NaN               NaN   \n",
       "5091             NaN               NaN   \n",
       "\n",
       "     Age-Adjusted Rate Lower 95% Confidence Interval  \\\n",
       "2497                                  Not Applicable   \n",
       "2499                                  Not Applicable   \n",
       "2501                                  Not Applicable   \n",
       "2503                                  Not Applicable   \n",
       "2505                                  Not Applicable   \n",
       "...                                              ...   \n",
       "5087                                             NaN   \n",
       "5088                                             NaN   \n",
       "5089                                             NaN   \n",
       "5090                                             NaN   \n",
       "5091                                             NaN   \n",
       "\n",
       "     Age-Adjusted Rate Upper 95% Confidence Interval      Crude Rate  \\\n",
       "2497                                  Not Applicable  Not Applicable   \n",
       "2499                                  Not Applicable  Not Applicable   \n",
       "2501                                  Not Applicable  Not Applicable   \n",
       "2503                                  Not Applicable  Not Applicable   \n",
       "2505                                  Not Applicable  Not Applicable   \n",
       "...                                              ...             ...   \n",
       "5087                                             NaN             NaN   \n",
       "5088                                             NaN             NaN   \n",
       "5089                                             NaN             NaN   \n",
       "5090                                             NaN             NaN   \n",
       "5091                                             NaN             NaN   \n",
       "\n",
       "     Crude Rate Lower 95% Confidence Interval  \\\n",
       "2497                           Not Applicable   \n",
       "2499                           Not Applicable   \n",
       "2501                           Not Applicable   \n",
       "2503                           Not Applicable   \n",
       "2505                           Not Applicable   \n",
       "...                                       ...   \n",
       "5087                                      NaN   \n",
       "5088                                      NaN   \n",
       "5089                                      NaN   \n",
       "5090                                      NaN   \n",
       "5091                                      NaN   \n",
       "\n",
       "     Crude Rate Upper 95% Confidence Interval  \n",
       "2497                           Not Applicable  \n",
       "2499                           Not Applicable  \n",
       "2501                           Not Applicable  \n",
       "2503                           Not Applicable  \n",
       "2505                           Not Applicable  \n",
       "...                                       ...  \n",
       "5087                                      NaN  \n",
       "5088                                      NaN  \n",
       "5089                                      NaN  \n",
       "5090                                      NaN  \n",
       "5091                                      NaN  \n",
       "\n",
       "[461 rows x 15 columns]"
      ]
     },
     "execution_count": 9,
     "metadata": {},
     "output_type": "execute_result"
    }
   ],
   "source": [
    "non_numeric_count = pd.to_numeric(cancer['Count'], errors='coerce').isna()# Get a Boolean array (mask) for rows where 'Count' value does not convert to a number\n",
    "cancer_non_numeric_count_rows = cancer[non_numeric_count]\n",
    "cancer_non_numeric_count_rows"
   ]
  },
  {
   "cell_type": "markdown",
   "id": "71b85da8",
   "metadata": {},
   "source": [
    "## 1.4 Updating the File Reading\n",
    "\n",
    "**NOTE**: In practice you would never add this second read here. Only read the data in once. You should update the code above and then re-run iteratively until you're done making sure the data is read in correctly. I'm reepeating the process below so that you get the experience of walking through the process above."
   ]
  },
  {
   "cell_type": "markdown",
   "id": "5e21d728",
   "metadata": {},
   "source": [
    "It looks like in our original dataset, there are some places where Count and other columns are Not Applicable instead of NaN. In particular, it looks like they create a separate Cancer Site Code for Females, instead of just using the Sex column, and there are Male rows for Female Breast cancer, where it is not applicable. The data isn't missing, it's just not applicable for that row. We might want to leave it this way, or we might want to make these values NaN. For our purposes, let's make these values NaN when we read in the file."
   ]
  },
  {
   "cell_type": "code",
   "execution_count": 10,
   "id": "ff319768",
   "metadata": {},
   "outputs": [
    {
     "data": {
      "text/plain": [
       "Notes                                              5039\n",
       "Cancer Sites                                         53\n",
       "Cancer Sites Code                                    53\n",
       "Year                                                 53\n",
       "Year Code                                            53\n",
       "Sex                                                  53\n",
       "Sex Code                                             53\n",
       "Count                                               461\n",
       "Population                                          461\n",
       "Age-Adjusted Rate                                   461\n",
       "Age-Adjusted Rate Lower 95% Confidence Interval     461\n",
       "Age-Adjusted Rate Upper 95% Confidence Interval     461\n",
       "Crude Rate                                          461\n",
       "Crude Rate Lower 95% Confidence Interval            461\n",
       "Crude Rate Upper 95% Confidence Interval            461\n",
       "dtype: int64"
      ]
     },
     "execution_count": 10,
     "metadata": {},
     "output_type": "execute_result"
    }
   ],
   "source": [
    "cancer = pd.read_csv(file, na_values=['Not Applicable']) #read in the file again, but this time make 'Not Applicable' into NaN\n",
    "cancer.isna().sum()"
   ]
  },
  {
   "cell_type": "markdown",
   "id": "8e8512e3",
   "metadata": {},
   "source": [
    "Now the data types should look better (float64 for numeric, object for text). However, some of the values are counted like 'Count', 'Population' and 'Year'. We will want to make these integers."
   ]
  },
  {
   "cell_type": "code",
   "execution_count": 11,
   "id": "08c7ff1f",
   "metadata": {},
   "outputs": [
    {
     "data": {
      "text/plain": [
       "Notes                                               object\n",
       "Cancer Sites                                        object\n",
       "Cancer Sites Code                                   object\n",
       "Year                                               float64\n",
       "Year Code                                          float64\n",
       "Sex                                                 object\n",
       "Sex Code                                            object\n",
       "Count                                              float64\n",
       "Population                                         float64\n",
       "Age-Adjusted Rate                                  float64\n",
       "Age-Adjusted Rate Lower 95% Confidence Interval    float64\n",
       "Age-Adjusted Rate Upper 95% Confidence Interval    float64\n",
       "Crude Rate                                         float64\n",
       "Crude Rate Lower 95% Confidence Interval           float64\n",
       "Crude Rate Upper 95% Confidence Interval           float64\n",
       "dtype: object"
      ]
     },
     "execution_count": 11,
     "metadata": {},
     "output_type": "execute_result"
    }
   ],
   "source": [
    "cancer.dtypes"
   ]
  },
  {
   "cell_type": "markdown",
   "id": "b02844d4",
   "metadata": {},
   "source": [
    "Types should be float64 for measurements, Int64 for whole numbers, object for text"
   ]
  },
  {
   "cell_type": "code",
   "execution_count": 12,
   "id": "1a6755a4",
   "metadata": {},
   "outputs": [
    {
     "data": {
      "text/plain": [
       "Notes                                               object\n",
       "Cancer Sites                                        object\n",
       "Cancer Sites Code                                   object\n",
       "Year                                                 Int64\n",
       "Year Code                                          float64\n",
       "Sex                                                 object\n",
       "Sex Code                                            object\n",
       "Count                                                Int64\n",
       "Population                                           Int64\n",
       "Age-Adjusted Rate                                  float64\n",
       "Age-Adjusted Rate Lower 95% Confidence Interval    float64\n",
       "Age-Adjusted Rate Upper 95% Confidence Interval    float64\n",
       "Crude Rate                                         float64\n",
       "Crude Rate Lower 95% Confidence Interval           float64\n",
       "Crude Rate Upper 95% Confidence Interval           float64\n",
       "dtype: object"
      ]
     },
     "execution_count": 12,
     "metadata": {},
     "output_type": "execute_result"
    }
   ],
   "source": [
    "# Convert Year, Count, and Population columns to integers (nullable Int64 to handle NaNs)\n",
    "cancer[['Year','Count','Population']] = cancer[['Year','Count','Population']].astype('Int64')\n",
    "cancer.dtypes"
   ]
  },
  {
   "cell_type": "markdown",
   "id": "705f756b",
   "metadata": {},
   "source": [
    "**NOTE:** The column types may not reveal all missing values. For example, some people will us a flag values like 0, -1, or -999 to denote missing data. You must watch out for this. Check the documentation that comes with the data, and look at the min/max values in each column to see if they might be using numeric flag values for missing data."
   ]
  },
  {
   "cell_type": "markdown",
   "id": "de5a14e7",
   "metadata": {},
   "source": [
    "# 2. Consistency Checks and Drops\n",
    "Looking for errors, typos, redundancies, and other inconsistencies\n",
    "\n",
    "- Is the Year always the same as the Year Code?\n",
    "- Does the Sex Code always match Sex?\n",
    "- Is the Cancer Site code always consistent for each Cancer Site?\n",
    "- Is Count < Population for every observation?\n",
    "- For each observational group (Cancer Site, Year, Sex), is the population the same for all Cancer Sites?\n",
    "\n",
    "Also, do we need to keep all of our columns? Do we need all of our rows? Is there anything we would rather drop?"
   ]
  },
  {
   "cell_type": "markdown",
   "id": "aee1583f",
   "metadata": {},
   "source": [
    "### 2.1 Redundancy Checks: Are the Code columns consistent? Does that make them redundant?"
   ]
  },
  {
   "cell_type": "code",
   "execution_count": 13,
   "id": "24168140",
   "metadata": {},
   "outputs": [
    {
     "data": {
      "text/html": [
       "<div>\n",
       "<style scoped>\n",
       "    .dataframe tbody tr th:only-of-type {\n",
       "        vertical-align: middle;\n",
       "    }\n",
       "\n",
       "    .dataframe tbody tr th {\n",
       "        vertical-align: top;\n",
       "    }\n",
       "\n",
       "    .dataframe thead th {\n",
       "        text-align: right;\n",
       "    }\n",
       "</style>\n",
       "<table border=\"1\" class=\"dataframe\">\n",
       "  <thead>\n",
       "    <tr style=\"text-align: right;\">\n",
       "      <th></th>\n",
       "      <th>Notes</th>\n",
       "      <th>Cancer Sites</th>\n",
       "      <th>Cancer Sites Code</th>\n",
       "      <th>Year</th>\n",
       "      <th>Year Code</th>\n",
       "      <th>Sex</th>\n",
       "      <th>Sex Code</th>\n",
       "      <th>Count</th>\n",
       "      <th>Population</th>\n",
       "      <th>Age-Adjusted Rate</th>\n",
       "      <th>Age-Adjusted Rate Lower 95% Confidence Interval</th>\n",
       "      <th>Age-Adjusted Rate Upper 95% Confidence Interval</th>\n",
       "      <th>Crude Rate</th>\n",
       "      <th>Crude Rate Lower 95% Confidence Interval</th>\n",
       "      <th>Crude Rate Upper 95% Confidence Interval</th>\n",
       "    </tr>\n",
       "  </thead>\n",
       "  <tbody>\n",
       "  </tbody>\n",
       "</table>\n",
       "</div>"
      ],
      "text/plain": [
       "Empty DataFrame\n",
       "Columns: [Notes, Cancer Sites, Cancer Sites Code, Year, Year Code, Sex, Sex Code, Count, Population, Age-Adjusted Rate, Age-Adjusted Rate Lower 95% Confidence Interval, Age-Adjusted Rate Upper 95% Confidence Interval, Crude Rate, Crude Rate Lower 95% Confidence Interval, Crude Rate Upper 95% Confidence Interval]\n",
       "Index: []"
      ]
     },
     "execution_count": 13,
     "metadata": {},
     "output_type": "execute_result"
    }
   ],
   "source": [
    "# Is the year always the same as the year code?\n",
    "year_mismatch = cancer[cancer['Year'] != cancer['Year Code']]\n",
    "year_mismatch.head()"
   ]
  },
  {
   "cell_type": "markdown",
   "id": "5cde5c49",
   "metadata": {},
   "source": [
    "In the cell above, we try to compare the Year to the Year Code and see if they are ever unequal. We use the != operator to check if they are unequal. However, in pandas, NaN != NaN. For our purposes, if both are NaN then we should say they are equal. But if one is NaN and the other is not, then we still want to see that as unequal. We can do this using the .equals() method."
   ]
  },
  {
   "cell_type": "code",
   "execution_count": 14,
   "id": "6574329e",
   "metadata": {},
   "outputs": [
    {
     "data": {
      "text/plain": [
       "False"
      ]
     },
     "execution_count": 14,
     "metadata": {},
     "output_type": "execute_result"
    }
   ],
   "source": [
    "#We can compare the columns using the .equals() method, which treats NaNs as equal by default.\n",
    "cancer['Year'].equals(cancer['Year Code'])"
   ]
  },
  {
   "cell_type": "markdown",
   "id": "8f419ca1",
   "metadata": {},
   "source": [
    "We see that the Year Code column is entirely redundant. Now let's do a similar thing for Sex Code and Cancer Site Code to see if they are 100% consistent with Sex and Cancer Site, and decide if we really need both columns. Sometimes it's nice to have that redundancy, other times it is unnecessary."
   ]
  },
  {
   "cell_type": "code",
   "execution_count": 15,
   "id": "2a3c5c46",
   "metadata": {},
   "outputs": [
    {
     "name": "stdout",
     "output_type": "stream",
     "text": [
      "Number of Cancer Sites with inconsistent codes: 0\n",
      "Cancer Sites with more than one code (if any):\n",
      "Series([], Name: Cancer Sites Code, dtype: int64)\n"
     ]
    }
   ],
   "source": [
    "# Check if Cancer Site Code is consistent for every Cancer Site\n",
    "site_code_unique_counts = cancer.groupby('Cancer Sites')['Cancer Sites Code'].nunique()\n",
    "inconsistent_site_codes = site_code_unique_counts[site_code_unique_counts > 1]\n",
    "print(\"Number of Cancer Sites with inconsistent codes:\", inconsistent_site_codes.size)\n",
    "print(\"Cancer Sites with more than one code (if any):\")\n",
    "print(inconsistent_site_codes)"
   ]
  },
  {
   "cell_type": "markdown",
   "id": "f2d376b7",
   "metadata": {},
   "source": [
    "We can see that Year Code, Sex Code, and Cancer Site Code are consistent with their respective non-code variables, making them fully redundant. We can decide whether or not to keep these columns. Let's remove the Year Code column, keep the Sex Code instead of the Sex column and rename it to just Sex, and we'll keep both the Cancer Site and Cancer Site Code."
   ]
  },
  {
   "cell_type": "code",
   "execution_count": 16,
   "id": "4f39b690",
   "metadata": {},
   "outputs": [],
   "source": [
    "# Drop 'Year Code' and 'Sex' columns, and rename 'Sex Code' to 'Sex'\n",
    "cancer = cancer.drop(columns=['Year Code', 'Sex'])\n",
    "cancer = cancer.rename(columns={'Sex Code': 'Sex'})"
   ]
  },
  {
   "cell_type": "markdown",
   "id": "d3ea41cc",
   "metadata": {},
   "source": [
    "### 2.2 Other Consistency Checks\n",
    "- Count is never higher than population\n",
    "- For each cancer site, each (Year, Sex) group should have the same population"
   ]
  },
  {
   "cell_type": "markdown",
   "id": "c498a7f0",
   "metadata": {},
   "source": [
    "First, let's check if the population numbers are the same (Year, Sex) combination for each Cancer Site. To do this we use groupby, to group according to these three columns, and then for eeach group we check whether there is more than one unique value in the population column for that group. I have broken it down into multiple steps so you can see what is happening."
   ]
  },
  {
   "cell_type": "code",
   "execution_count": 17,
   "id": "55163fc4",
   "metadata": {},
   "outputs": [
    {
     "name": "stdout",
     "output_type": "stream",
     "text": [
      "Number of groups with more than one unique population value: 0\n",
      "Groups with more than one unique population value (if any): Series([], Name: Population, dtype: int64)\n"
     ]
    }
   ],
   "source": [
    "cancer_grouped = cancer.groupby(['Cancer Sites', 'Year', 'Sex']) #this creates a groupby object, not a dataframe!\n",
    "pop_unique_counts = cancer_grouped['Population'].nunique() #For each group, count the number of unique values in the Population column\n",
    "print(\"Number of groups with more than one unique population value:\", (pop_unique_counts > 1).sum())\n",
    "print(\"Groups with more than one unique population value (if any):\", pop_unique_counts[pop_unique_counts > 1])"
   ]
  },
  {
   "cell_type": "code",
   "execution_count": 18,
   "id": "a115c50a",
   "metadata": {},
   "outputs": [
    {
     "data": {
      "text/html": [
       "<div>\n",
       "<style scoped>\n",
       "    .dataframe tbody tr th:only-of-type {\n",
       "        vertical-align: middle;\n",
       "    }\n",
       "\n",
       "    .dataframe tbody tr th {\n",
       "        vertical-align: top;\n",
       "    }\n",
       "\n",
       "    .dataframe thead th {\n",
       "        text-align: right;\n",
       "    }\n",
       "</style>\n",
       "<table border=\"1\" class=\"dataframe\">\n",
       "  <thead>\n",
       "    <tr style=\"text-align: right;\">\n",
       "      <th></th>\n",
       "      <th>Notes</th>\n",
       "      <th>Cancer Sites</th>\n",
       "      <th>Cancer Sites Code</th>\n",
       "      <th>Year</th>\n",
       "      <th>Sex</th>\n",
       "      <th>Count</th>\n",
       "      <th>Population</th>\n",
       "      <th>Age-Adjusted Rate</th>\n",
       "      <th>Age-Adjusted Rate Lower 95% Confidence Interval</th>\n",
       "      <th>Age-Adjusted Rate Upper 95% Confidence Interval</th>\n",
       "      <th>Crude Rate</th>\n",
       "      <th>Crude Rate Lower 95% Confidence Interval</th>\n",
       "      <th>Crude Rate Upper 95% Confidence Interval</th>\n",
       "    </tr>\n",
       "  </thead>\n",
       "  <tbody>\n",
       "  </tbody>\n",
       "</table>\n",
       "</div>"
      ],
      "text/plain": [
       "Empty DataFrame\n",
       "Columns: [Notes, Cancer Sites, Cancer Sites Code, Year, Sex, Count, Population, Age-Adjusted Rate, Age-Adjusted Rate Lower 95% Confidence Interval, Age-Adjusted Rate Upper 95% Confidence Interval, Crude Rate, Crude Rate Lower 95% Confidence Interval, Crude Rate Upper 95% Confidence Interval]\n",
       "Index: []"
      ]
     },
     "execution_count": 18,
     "metadata": {},
     "output_type": "execute_result"
    }
   ],
   "source": [
    "# Check if Count is higher than Population for any rows\n",
    "cancer[cancer['Count'] > cancer['Population']] #should be empty!"
   ]
  },
  {
   "cell_type": "markdown",
   "id": "34819ceb",
   "metadata": {},
   "source": [
    "Looking at the head() we have a Notes column but the values we see are all NaN. Let's look for any rows where these are not NaN, to see what information they give us. Looks like there are notes in some of the rows that are relevant -- they tell us how the data was created and how it is being represented. If we want to use this dataset we should read over the notes to understand them."
   ]
  },
  {
   "cell_type": "markdown",
   "id": "1d927ff8",
   "metadata": {},
   "source": [
    "### 2.3 Notes Column\n",
    "\n",
    "Let's finally deal with the Notes column that is mostly empty. We see that in all the rows where the Notes are not empty, there is no data."
   ]
  },
  {
   "cell_type": "code",
   "execution_count": 19,
   "id": "38425956",
   "metadata": {},
   "outputs": [
    {
     "data": {
      "text/html": [
       "<div>\n",
       "<style scoped>\n",
       "    .dataframe tbody tr th:only-of-type {\n",
       "        vertical-align: middle;\n",
       "    }\n",
       "\n",
       "    .dataframe tbody tr th {\n",
       "        vertical-align: top;\n",
       "    }\n",
       "\n",
       "    .dataframe thead th {\n",
       "        text-align: right;\n",
       "    }\n",
       "</style>\n",
       "<table border=\"1\" class=\"dataframe\">\n",
       "  <thead>\n",
       "    <tr style=\"text-align: right;\">\n",
       "      <th></th>\n",
       "      <th>Notes</th>\n",
       "      <th>Cancer Sites</th>\n",
       "      <th>Cancer Sites Code</th>\n",
       "      <th>Year</th>\n",
       "      <th>Sex</th>\n",
       "      <th>Count</th>\n",
       "      <th>Population</th>\n",
       "      <th>Age-Adjusted Rate</th>\n",
       "      <th>Age-Adjusted Rate Lower 95% Confidence Interval</th>\n",
       "      <th>Age-Adjusted Rate Upper 95% Confidence Interval</th>\n",
       "      <th>Crude Rate</th>\n",
       "      <th>Crude Rate Lower 95% Confidence Interval</th>\n",
       "      <th>Crude Rate Upper 95% Confidence Interval</th>\n",
       "    </tr>\n",
       "  </thead>\n",
       "  <tbody>\n",
       "    <tr>\n",
       "      <th>5039</th>\n",
       "      <td>---</td>\n",
       "      <td>NaN</td>\n",
       "      <td>NaN</td>\n",
       "      <td>&lt;NA&gt;</td>\n",
       "      <td>NaN</td>\n",
       "      <td>&lt;NA&gt;</td>\n",
       "      <td>&lt;NA&gt;</td>\n",
       "      <td>NaN</td>\n",
       "      <td>NaN</td>\n",
       "      <td>NaN</td>\n",
       "      <td>NaN</td>\n",
       "      <td>NaN</td>\n",
       "      <td>NaN</td>\n",
       "    </tr>\n",
       "    <tr>\n",
       "      <th>5040</th>\n",
       "      <td>Dataset: United States and Puerto Rico Cancer ...</td>\n",
       "      <td>NaN</td>\n",
       "      <td>NaN</td>\n",
       "      <td>&lt;NA&gt;</td>\n",
       "      <td>NaN</td>\n",
       "      <td>&lt;NA&gt;</td>\n",
       "      <td>&lt;NA&gt;</td>\n",
       "      <td>NaN</td>\n",
       "      <td>NaN</td>\n",
       "      <td>NaN</td>\n",
       "      <td>NaN</td>\n",
       "      <td>NaN</td>\n",
       "      <td>NaN</td>\n",
       "    </tr>\n",
       "    <tr>\n",
       "      <th>5041</th>\n",
       "      <td>Query Parameters:</td>\n",
       "      <td>NaN</td>\n",
       "      <td>NaN</td>\n",
       "      <td>&lt;NA&gt;</td>\n",
       "      <td>NaN</td>\n",
       "      <td>&lt;NA&gt;</td>\n",
       "      <td>&lt;NA&gt;</td>\n",
       "      <td>NaN</td>\n",
       "      <td>NaN</td>\n",
       "      <td>NaN</td>\n",
       "      <td>NaN</td>\n",
       "      <td>NaN</td>\n",
       "      <td>NaN</td>\n",
       "    </tr>\n",
       "    <tr>\n",
       "      <th>5042</th>\n",
       "      <td>Group By: Cancer Sites; Year; Sex</td>\n",
       "      <td>NaN</td>\n",
       "      <td>NaN</td>\n",
       "      <td>&lt;NA&gt;</td>\n",
       "      <td>NaN</td>\n",
       "      <td>&lt;NA&gt;</td>\n",
       "      <td>&lt;NA&gt;</td>\n",
       "      <td>NaN</td>\n",
       "      <td>NaN</td>\n",
       "      <td>NaN</td>\n",
       "      <td>NaN</td>\n",
       "      <td>NaN</td>\n",
       "      <td>NaN</td>\n",
       "    </tr>\n",
       "    <tr>\n",
       "      <th>5043</th>\n",
       "      <td>Show Totals: Disabled</td>\n",
       "      <td>NaN</td>\n",
       "      <td>NaN</td>\n",
       "      <td>&lt;NA&gt;</td>\n",
       "      <td>NaN</td>\n",
       "      <td>&lt;NA&gt;</td>\n",
       "      <td>&lt;NA&gt;</td>\n",
       "      <td>NaN</td>\n",
       "      <td>NaN</td>\n",
       "      <td>NaN</td>\n",
       "      <td>NaN</td>\n",
       "      <td>NaN</td>\n",
       "      <td>NaN</td>\n",
       "    </tr>\n",
       "  </tbody>\n",
       "</table>\n",
       "</div>"
      ],
      "text/plain": [
       "                                                  Notes Cancer Sites  \\\n",
       "5039                                                ---          NaN   \n",
       "5040  Dataset: United States and Puerto Rico Cancer ...          NaN   \n",
       "5041                                  Query Parameters:          NaN   \n",
       "5042                  Group By: Cancer Sites; Year; Sex          NaN   \n",
       "5043                              Show Totals: Disabled          NaN   \n",
       "\n",
       "     Cancer Sites Code  Year  Sex  Count  Population  Age-Adjusted Rate  \\\n",
       "5039               NaN  <NA>  NaN   <NA>        <NA>                NaN   \n",
       "5040               NaN  <NA>  NaN   <NA>        <NA>                NaN   \n",
       "5041               NaN  <NA>  NaN   <NA>        <NA>                NaN   \n",
       "5042               NaN  <NA>  NaN   <NA>        <NA>                NaN   \n",
       "5043               NaN  <NA>  NaN   <NA>        <NA>                NaN   \n",
       "\n",
       "      Age-Adjusted Rate Lower 95% Confidence Interval  \\\n",
       "5039                                              NaN   \n",
       "5040                                              NaN   \n",
       "5041                                              NaN   \n",
       "5042                                              NaN   \n",
       "5043                                              NaN   \n",
       "\n",
       "      Age-Adjusted Rate Upper 95% Confidence Interval  Crude Rate  \\\n",
       "5039                                              NaN         NaN   \n",
       "5040                                              NaN         NaN   \n",
       "5041                                              NaN         NaN   \n",
       "5042                                              NaN         NaN   \n",
       "5043                                              NaN         NaN   \n",
       "\n",
       "      Crude Rate Lower 95% Confidence Interval  \\\n",
       "5039                                       NaN   \n",
       "5040                                       NaN   \n",
       "5041                                       NaN   \n",
       "5042                                       NaN   \n",
       "5043                                       NaN   \n",
       "\n",
       "      Crude Rate Upper 95% Confidence Interval  \n",
       "5039                                       NaN  \n",
       "5040                                       NaN  \n",
       "5041                                       NaN  \n",
       "5042                                       NaN  \n",
       "5043                                       NaN  "
      ]
     },
     "execution_count": 19,
     "metadata": {},
     "output_type": "execute_result"
    }
   ],
   "source": [
    "cancer[cancer['Notes'].notna()].head()#look at the rows where Notes is not NaN"
   ]
  },
  {
   "cell_type": "markdown",
   "id": "7cce60ff",
   "metadata": {},
   "source": [
    "Wait, what is `<NA>`? Why are we suddenly seeing that? We know the column types are correct... This is another type of NaN for nullable integer types, which is what we made the Year column. `Nullable' just means that in can be a null like NaN or <NA>. Non-nullable variables have to hold a value, otherwise it throws an error."
   ]
  },
  {
   "cell_type": "markdown",
   "id": "8f607768",
   "metadata": {},
   "source": [
    "We don't need the notes for our purposes, so let's just drop the notes column, and then remove all rows that do not contain any data"
   ]
  },
  {
   "cell_type": "code",
   "execution_count": 20,
   "id": "6e3ec40f",
   "metadata": {},
   "outputs": [],
   "source": [
    "cancer = cancer.drop('Notes', axis=1) #drop rows where either Count or Population is NaN\n",
    "cancer.dropna(inplace=True) #inplace=True modifies the dataframe directly instead of creating a copy"
   ]
  },
  {
   "cell_type": "code",
   "execution_count": 21,
   "id": "0b46137d",
   "metadata": {},
   "outputs": [
    {
     "data": {
      "text/html": [
       "<div>\n",
       "<style scoped>\n",
       "    .dataframe tbody tr th:only-of-type {\n",
       "        vertical-align: middle;\n",
       "    }\n",
       "\n",
       "    .dataframe tbody tr th {\n",
       "        vertical-align: top;\n",
       "    }\n",
       "\n",
       "    .dataframe thead th {\n",
       "        text-align: right;\n",
       "    }\n",
       "</style>\n",
       "<table border=\"1\" class=\"dataframe\">\n",
       "  <thead>\n",
       "    <tr style=\"text-align: right;\">\n",
       "      <th></th>\n",
       "      <th>Cancer Sites</th>\n",
       "      <th>Cancer Sites Code</th>\n",
       "      <th>Year</th>\n",
       "      <th>Sex</th>\n",
       "      <th>Count</th>\n",
       "      <th>Population</th>\n",
       "      <th>Age-Adjusted Rate</th>\n",
       "      <th>Age-Adjusted Rate Lower 95% Confidence Interval</th>\n",
       "      <th>Age-Adjusted Rate Upper 95% Confidence Interval</th>\n",
       "      <th>Crude Rate</th>\n",
       "      <th>Crude Rate Lower 95% Confidence Interval</th>\n",
       "      <th>Crude Rate Upper 95% Confidence Interval</th>\n",
       "    </tr>\n",
       "  </thead>\n",
       "  <tbody>\n",
       "    <tr>\n",
       "      <th>0</th>\n",
       "      <td>All Invasive Cancer Sites Combined</td>\n",
       "      <td>0</td>\n",
       "      <td>1999</td>\n",
       "      <td>F</td>\n",
       "      <td>631741</td>\n",
       "      <td>140394214</td>\n",
       "      <td>420.5</td>\n",
       "      <td>419.4</td>\n",
       "      <td>421.5</td>\n",
       "      <td>450.0</td>\n",
       "      <td>448.9</td>\n",
       "      <td>451.1</td>\n",
       "    </tr>\n",
       "    <tr>\n",
       "      <th>1</th>\n",
       "      <td>All Invasive Cancer Sites Combined</td>\n",
       "      <td>0</td>\n",
       "      <td>1999</td>\n",
       "      <td>M</td>\n",
       "      <td>672530</td>\n",
       "      <td>135067134</td>\n",
       "      <td>572.4</td>\n",
       "      <td>571.0</td>\n",
       "      <td>573.8</td>\n",
       "      <td>497.9</td>\n",
       "      <td>496.7</td>\n",
       "      <td>499.1</td>\n",
       "    </tr>\n",
       "    <tr>\n",
       "      <th>2</th>\n",
       "      <td>All Invasive Cancer Sites Combined</td>\n",
       "      <td>0</td>\n",
       "      <td>2000</td>\n",
       "      <td>F</td>\n",
       "      <td>641968</td>\n",
       "      <td>141865770</td>\n",
       "      <td>421.3</td>\n",
       "      <td>420.3</td>\n",
       "      <td>422.4</td>\n",
       "      <td>452.5</td>\n",
       "      <td>451.4</td>\n",
       "      <td>453.6</td>\n",
       "    </tr>\n",
       "    <tr>\n",
       "      <th>3</th>\n",
       "      <td>All Invasive Cancer Sites Combined</td>\n",
       "      <td>0</td>\n",
       "      <td>2000</td>\n",
       "      <td>M</td>\n",
       "      <td>690598</td>\n",
       "      <td>136692444</td>\n",
       "      <td>577.0</td>\n",
       "      <td>575.6</td>\n",
       "      <td>578.3</td>\n",
       "      <td>505.2</td>\n",
       "      <td>504.0</td>\n",
       "      <td>506.4</td>\n",
       "    </tr>\n",
       "    <tr>\n",
       "      <th>4</th>\n",
       "      <td>All Invasive Cancer Sites Combined</td>\n",
       "      <td>0</td>\n",
       "      <td>2001</td>\n",
       "      <td>F</td>\n",
       "      <td>662313</td>\n",
       "      <td>143603977</td>\n",
       "      <td>427.6</td>\n",
       "      <td>426.6</td>\n",
       "      <td>428.7</td>\n",
       "      <td>461.2</td>\n",
       "      <td>460.1</td>\n",
       "      <td>462.3</td>\n",
       "    </tr>\n",
       "  </tbody>\n",
       "</table>\n",
       "</div>"
      ],
      "text/plain": [
       "                         Cancer Sites Cancer Sites Code  Year Sex   Count  \\\n",
       "0  All Invasive Cancer Sites Combined                 0  1999   F  631741   \n",
       "1  All Invasive Cancer Sites Combined                 0  1999   M  672530   \n",
       "2  All Invasive Cancer Sites Combined                 0  2000   F  641968   \n",
       "3  All Invasive Cancer Sites Combined                 0  2000   M  690598   \n",
       "4  All Invasive Cancer Sites Combined                 0  2001   F  662313   \n",
       "\n",
       "   Population  Age-Adjusted Rate  \\\n",
       "0   140394214              420.5   \n",
       "1   135067134              572.4   \n",
       "2   141865770              421.3   \n",
       "3   136692444              577.0   \n",
       "4   143603977              427.6   \n",
       "\n",
       "   Age-Adjusted Rate Lower 95% Confidence Interval  \\\n",
       "0                                            419.4   \n",
       "1                                            571.0   \n",
       "2                                            420.3   \n",
       "3                                            575.6   \n",
       "4                                            426.6   \n",
       "\n",
       "   Age-Adjusted Rate Upper 95% Confidence Interval  Crude Rate  \\\n",
       "0                                            421.5       450.0   \n",
       "1                                            573.8       497.9   \n",
       "2                                            422.4       452.5   \n",
       "3                                            578.3       505.2   \n",
       "4                                            428.7       461.2   \n",
       "\n",
       "   Crude Rate Lower 95% Confidence Interval  \\\n",
       "0                                     448.9   \n",
       "1                                     496.7   \n",
       "2                                     451.4   \n",
       "3                                     504.0   \n",
       "4                                     460.1   \n",
       "\n",
       "   Crude Rate Upper 95% Confidence Interval  \n",
       "0                                     451.1  \n",
       "1                                     499.1  \n",
       "2                                     453.6  \n",
       "3                                     506.4  \n",
       "4                                     462.3  "
      ]
     },
     "execution_count": 21,
     "metadata": {},
     "output_type": "execute_result"
    }
   ],
   "source": [
    "cancer.head() #Admire your beautiful clean data"
   ]
  },
  {
   "cell_type": "markdown",
   "id": "8d6b94bb",
   "metadata": {},
   "source": [
    "# 4. Save Clean Data\n",
    "\n",
    "Now that our data is nice and clean, let's save it to a new data file so that we can use it in the future.\n",
    "\n",
    "NOTE: We usually do not push the data files to our git repository, especially when using GitHub, unless the data set is small (like this one). GitHub is not made to store large datasets. We just include the link to download the data, and then include this notebook so that others can clean the data in the same way."
   ]
  },
  {
   "cell_type": "code",
   "execution_count": 22,
   "id": "eb694229",
   "metadata": {},
   "outputs": [],
   "source": [
    "cancer.to_csv(project_folder / 'data/clean_cdc_cancer.csv', index=False) #index=False means don't write the index as a column in the csv file. We don't need it there."
   ]
  },
  {
   "cell_type": "markdown",
   "id": "a75892c9",
   "metadata": {},
   "source": [
    "**NOTE:** The method .to_csv overwrites files if they already exist, rather than appending data to the end of them"
   ]
  },
  {
   "cell_type": "code",
   "execution_count": null,
   "id": "879f5fc9",
   "metadata": {},
   "outputs": [],
   "source": []
  }
 ],
 "metadata": {
  "kernelspec": {
   "display_name": "venv",
   "language": "python",
   "name": "python3"
  },
  "language_info": {
   "codemirror_mode": {
    "name": "ipython",
    "version": 3
   },
   "file_extension": ".py",
   "mimetype": "text/x-python",
   "name": "python",
   "nbconvert_exporter": "python",
   "pygments_lexer": "ipython3",
   "version": "3.12.4"
  }
 },
 "nbformat": 4,
 "nbformat_minor": 5
}
